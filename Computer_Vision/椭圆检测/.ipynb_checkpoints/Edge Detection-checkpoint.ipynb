{
 "cells": [
  {
   "cell_type": "code",
   "id": "initial_id",
   "metadata": {
    "collapsed": true,
    "ExecuteTime": {
     "end_time": "2024-06-19T13:02:11.358416Z",
     "start_time": "2024-06-19T13:02:11.355430Z"
    }
   },
   "source": "import cv2",
   "outputs": [],
   "execution_count": 4
  },
  {
   "metadata": {
    "ExecuteTime": {
     "end_time": "2024-06-19T13:03:17.607789Z",
     "start_time": "2024-06-19T13:03:17.597103Z"
    }
   },
   "cell_type": "code",
   "source": [
    "img = cv2.imread(r'C:\\Users\\mengyonghao\\PycharmProjects\\pytorch_projects\\pytorch_projects\\椭圆检测\\source\\killme2.jpg')\n",
    "\n",
    "edges = cv2.Canny(img,100,200)\n",
    "cv2.imshow('edge',img)\n",
    "cv2.waitKey(0)"
   ],
   "id": "eebb5377c9332dee",
   "outputs": [
    {
     "ename": "error",
     "evalue": "OpenCV(4.10.0) D:\\a\\opencv-python\\opencv-python\\opencv\\modules\\highgui\\src\\window.cpp:973: error: (-215:Assertion failed) size.width>0 && size.height>0 in function 'cv::imshow'\n",
     "output_type": "error",
     "traceback": [
      "\u001B[1;31m---------------------------------------------------------------------------\u001B[0m",
      "\u001B[1;31merror\u001B[0m                                     Traceback (most recent call last)",
      "Cell \u001B[1;32mIn[10], line 4\u001B[0m\n\u001B[0;32m      1\u001B[0m img \u001B[38;5;241m=\u001B[39m cv2\u001B[38;5;241m.\u001B[39mimread(\u001B[38;5;124mr\u001B[39m\u001B[38;5;124m'\u001B[39m\u001B[38;5;124mC:\u001B[39m\u001B[38;5;124m\\\u001B[39m\u001B[38;5;124mUsers\u001B[39m\u001B[38;5;124m\\\u001B[39m\u001B[38;5;124mmengyonghao\u001B[39m\u001B[38;5;124m\\\u001B[39m\u001B[38;5;124mPycharmProjects\u001B[39m\u001B[38;5;124m\\\u001B[39m\u001B[38;5;124mpytorch_projects\u001B[39m\u001B[38;5;124m\\\u001B[39m\u001B[38;5;124mpytorch_projects\u001B[39m\u001B[38;5;124m\\\u001B[39m\u001B[38;5;124m椭圆检测\u001B[39m\u001B[38;5;124m\\\u001B[39m\u001B[38;5;124msource\u001B[39m\u001B[38;5;124m\\\u001B[39m\u001B[38;5;124mkillme2.jpg\u001B[39m\u001B[38;5;124m'\u001B[39m)\n\u001B[0;32m      3\u001B[0m edges \u001B[38;5;241m=\u001B[39m cv2\u001B[38;5;241m.\u001B[39mCanny(img,\u001B[38;5;241m100\u001B[39m,\u001B[38;5;241m200\u001B[39m)\n\u001B[1;32m----> 4\u001B[0m \u001B[43mcv2\u001B[49m\u001B[38;5;241;43m.\u001B[39;49m\u001B[43mimshow\u001B[49m\u001B[43m(\u001B[49m\u001B[38;5;124;43m'\u001B[39;49m\u001B[38;5;124;43medge\u001B[39;49m\u001B[38;5;124;43m'\u001B[39;49m\u001B[43m,\u001B[49m\u001B[43mimg\u001B[49m\u001B[43m)\u001B[49m\n\u001B[0;32m      5\u001B[0m cv2\u001B[38;5;241m.\u001B[39mwaitKey(\u001B[38;5;241m0\u001B[39m)\n",
      "\u001B[1;31merror\u001B[0m: OpenCV(4.10.0) D:\\a\\opencv-python\\opencv-python\\opencv\\modules\\highgui\\src\\window.cpp:973: error: (-215:Assertion failed) size.width>0 && size.height>0 in function 'cv::imshow'\n"
     ]
    }
   ],
   "execution_count": 10
  },
  {
   "metadata": {},
   "cell_type": "code",
   "outputs": [],
   "execution_count": null,
   "source": "",
   "id": "c8f300dfabbe44d4"
  }
 ],
 "metadata": {
  "kernelspec": {
   "display_name": "Python 3",
   "language": "python",
   "name": "python3"
  },
  "language_info": {
   "codemirror_mode": {
    "name": "ipython",
    "version": 2
   },
   "file_extension": ".py",
   "mimetype": "text/x-python",
   "name": "python",
   "nbconvert_exporter": "python",
   "pygments_lexer": "ipython2",
   "version": "2.7.6"
  }
 },
 "nbformat": 4,
 "nbformat_minor": 5
}
